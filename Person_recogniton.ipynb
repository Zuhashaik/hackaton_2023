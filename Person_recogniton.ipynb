{
 "cells": [
  {
   "cell_type": "code",
   "execution_count": 1,
   "id": "c49c9dee",
   "metadata": {},
   "outputs": [],
   "source": [
    "# importing and installing libraries\n",
    "import warnings\n",
    "warnings.filterwarnings(\"ignore\")\n",
    "from facenet_pytorch import MTCNN, InceptionResnetV1\n",
    "import torch\n",
    "from torchvision import datasets, transforms\n",
    "from torch.utils.data import DataLoader\n",
    "from PIL import Image\n",
    "import cv2\n",
    "import os"
   ]
  },
  {
   "cell_type": "code",
   "execution_count": 2,
   "id": "443e3074",
   "metadata": {},
   "outputs": [],
   "source": [
    "def register():\n",
    "  main_directory = \"database\"\n",
    "\n",
    "  # Create the main directory if it doesn't exist\n",
    "  if not os.path.exists(main_directory):\n",
    "      os.makedirs(main_directory)\n",
    "\n",
    "  # Prompt the user for a name\n",
    "  name = input(\"Enter your name: \")\n",
    "\n",
    "  # Set the directory for the user's photos\n",
    "  directory = os.path.join(main_directory, name)\n",
    "\n",
    "  # Create the user's directory if it doesn't exist\n",
    "  if not os.path.exists(directory):\n",
    "      os.makedirs(directory)\n",
    "\n",
    "  # Set the number of photos to capture\n",
    "  num_photos = 30\n",
    "\n",
    "  # Set the time limit in seconds\n",
    "  time_limit = 10\n",
    "\n",
    "  # Set the camera device index (0 is usually the default camera)\n",
    "  camera_index = 0\n",
    "\n",
    "  # Initialize the camera\n",
    "  cap = cv2.VideoCapture(camera_index)\n",
    "\n",
    "  # Set the frame width and height\n",
    "  cap.set(cv2.CAP_PROP_FRAME_WIDTH, 640)\n",
    "  cap.set(cv2.CAP_PROP_FRAME_HEIGHT, 480)\n",
    "\n",
    "  # Set the frame rate\n",
    "  cap.set(cv2.CAP_PROP_FPS, 30)\n",
    "\n",
    "  # Calculate the time interval between photos\n",
    "  time_interval = time_limit / num_photos\n",
    "\n",
    "  # Capture and save the photos\n",
    "  for i in range(num_photos):\n",
    "      # Capture a frame\n",
    "      ret, frame = cap.read()\n",
    "      \n",
    "      # Construct the filename\n",
    "      filename = os.path.join(directory, f\"photo_{i+1}.jpg\")\n",
    "      \n",
    "      # Save the frame to a file\n",
    "      cv2.imwrite(filename, frame)\n",
    "      # Wait for the time interval before capturing the next photo\n",
    "      cv2.waitKey(int(time_interval * 1000))\n",
    "      \n",
    "  # Release the camera\n",
    "  cap.release()"
   ]
  },
  {
   "cell_type": "code",
   "execution_count": 3,
   "id": "fc14a91f",
   "metadata": {},
   "outputs": [],
   "source": [
    "#defining some use full objects:\n",
    "mtcnn = MTCNN(image_size=240, margin=0, min_face_size=20) # initializing mtcnn for face detection\n",
    "resnet = InceptionResnetV1(pretrained='vggface2').eval() # initializing resnet for face img to embeding conversion\n",
    "\n",
    "\n",
    "def collate_fn(x):\n",
    "    return x[0]\n",
    "\n",
    "#to_process\n",
    "def process():\n",
    "  dataset=datasets.ImageFolder('database') # photos folder path \n",
    "  idx_to_class = {i:c for c,i in dataset.class_to_idx.items()}\n",
    "  loader = DataLoader(dataset, collate_fn=collate_fn)\n",
    "\n",
    "  face_list = [] # list of cropped faces from photos folder\n",
    "  name_list = [] # list of names corrospoing to cropped photos\n",
    "  embedding_list = [] # list of embeding matrix after conversion from cropped faces to embedding matrix using resnet\n",
    "\n",
    "  for img, idx in loader:\n",
    "      face, prob = mtcnn(img, return_prob=True) \n",
    "      if face is not None and prob>0.90: # if face detected and porbability > 90%\n",
    "          emb = resnet(face.unsqueeze(0)) # passing cropped face into resnet model to get embedding matrix\n",
    "          embedding_list.append(emb.detach()) # resulten embedding matrix is stored in a list\n",
    "          name_list.append(idx_to_class[idx]) # names are stored in a list\n",
    "\n",
    "  data = [embedding_list, name_list]\n",
    "  torch.save(data, 'data.pt')\n",
    "\n",
    "#for testing:\n",
    "def capture_and_match():\n",
    "    dir='test'\n",
    "    data_dir='data.pt'\n",
    "    if not os.path.exists(dir):\n",
    "      os.makedirs(dir)\n",
    "    # Capture a photo and save it to the given directory\n",
    "    cap = cv2.VideoCapture(0)\n",
    "\n",
    "    # Set the frame width and height\n",
    "    cap.set(cv2.CAP_PROP_FRAME_WIDTH, 640)\n",
    "    cap.set(cv2.CAP_PROP_FRAME_HEIGHT, 480)\n",
    "\n",
    "    # Set the frame rate\n",
    "    cap.set(cv2.CAP_PROP_FPS, 30)\n",
    "    ret, frame = cap.read()\n",
    "    filename = os.path.join(dir, \"photo.jpg\")\n",
    "    cv2.imwrite(filename, frame)\n",
    "\n",
    "    # Match the captured photo with the dataset\n",
    "    img_path = filename\n",
    "    img = Image.open(img_path)\n",
    "    face, prob = mtcnn(img, return_prob=True) # returns cropped face and probability\n",
    "    emb = resnet(face.unsqueeze(0)).detach() # detach is to make required gradient false\n",
    "    \n",
    "    saved_data = torch.load(data_dir) # loading data.pt file\n",
    "    embedding_list = saved_data[0] # getting embedding data\n",
    "    name_list = saved_data[1] # getting list of names\n",
    "    dist_list = [] # list of matched distances, minimum distance is used to identify the person\n",
    "    \n",
    "    for idx, emb_db in enumerate(embedding_list):\n",
    "        dist = torch.dist(emb, emb_db).item()\n",
    "        dist_list.append(dist)\n",
    "        \n",
    "    idx_min = dist_list.index(min(dist_list))\n",
    "    result = (name_list[idx_min], min(dist_list))\n",
    "\n",
    "    # Print the result\n",
    "    print('This is :', result[0])\n",
    "\n",
    "    cap.release()\n",
    "    return result"
   ]
  },
  {
   "cell_type": "code",
   "execution_count": 4,
   "id": "98ad7728",
   "metadata": {},
   "outputs": [
    {
     "name": "stdout",
     "output_type": "stream",
     "text": [
      "Enter your name: zuhas\n"
     ]
    }
   ],
   "source": [
    "register()\n",
    "process()"
   ]
  },
  {
   "cell_type": "code",
   "execution_count": 5,
   "id": "cbb8cdc8",
   "metadata": {},
   "outputs": [
    {
     "name": "stdout",
     "output_type": "stream",
     "text": [
      "This is : zuhas\n"
     ]
    },
    {
     "data": {
      "text/plain": [
       "('zuhas', 0.5224330425262451)"
      ]
     },
     "execution_count": 5,
     "metadata": {},
     "output_type": "execute_result"
    }
   ],
   "source": [
    "capture_and_match()"
   ]
  },
  {
   "cell_type": "code",
   "execution_count": null,
   "id": "db0cf8c3",
   "metadata": {},
   "outputs": [],
   "source": []
  },
  {
   "cell_type": "code",
   "execution_count": null,
   "id": "3dd4ccc0",
   "metadata": {},
   "outputs": [],
   "source": []
  }
 ],
 "metadata": {
  "kernelspec": {
   "display_name": "Python 3 (ipykernel)",
   "language": "python",
   "name": "python3"
  },
  "language_info": {
   "codemirror_mode": {
    "name": "ipython",
    "version": 3
   },
   "file_extension": ".py",
   "mimetype": "text/x-python",
   "name": "python",
   "nbconvert_exporter": "python",
   "pygments_lexer": "ipython3",
   "version": "3.8.10"
  }
 },
 "nbformat": 4,
 "nbformat_minor": 5
}
